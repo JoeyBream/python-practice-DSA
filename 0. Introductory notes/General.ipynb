{
 "cells": [
  {
   "cell_type": "markdown",
   "id": "00112298-1389-4810-8276-38ce49de3b57",
   "metadata": {},
   "source": [
    "# Recap materials from uni course\n",
    "## Big O notation"
   ]
  },
  {
   "cell_type": "markdown",
   "id": "cdacc4fd-af92-47f7-9c75-0bb8030e89b8",
   "metadata": {},
   "source": [
    "### Time complexity\n",
    "1. O(5n) and O(n/2) are both of order O(n). This is because they both increase linearly with the change in input n. Ignore factors.\n",
    "2. O(2^n + 5n^2 + 3n) is of order O(2^n). Only consider the largest factor in the algorithm\n",
    "3. We generally want to consider best case, worst case and average case complexity. E.g. O(n), O(n), O(n^2).\n",
    "4. Logarithmic time O(log n) is very fast. O(n*log n) is also very fine. (Also note, O(log n) comes when our algorithm is doing a percentage fewer calculations at each step, e.g. in a binary search. We start doing n operations, then we do n/2, then n/4."
   ]
  },
  {
   "cell_type": "markdown",
   "id": "f2b5f7e2-e18e-4131-ad48-daecbb57b328",
   "metadata": {},
   "source": [
    "### Space complexity\n",
    "1. Space complexity considers the amount of memory used by the algorithm. Storing a matrix size n by m is space complexity O(n*m)\n",
    "2. Storing the first element of an array is size O(n), storing all the elements of an array is size O(n)."
   ]
  },
  {
   "cell_type": "markdown",
   "id": "35b2a273-58e6-4c40-ac56-eb1b06c6fbd8",
   "metadata": {},
   "source": [
    "## Recursion\n",
    "### General recursion notes\n",
    "1. Any iterative function (for, while) can be written recursively also f(n), f(f(n)\n",
    "2. You need a base case to make your recursive function stop, e.g. while i < 10\n",
    "3. Every level of the cascade needs to close with a return step. Pay attention to this also.\n",
    "4. Useful for problems where f(100) is a combination of e.g. f(99) and f(98)"
   ]
  },
  {
   "cell_type": "code",
   "execution_count": null,
   "id": "6a54ca66-a099-468d-8870-e058031b334b",
   "metadata": {},
   "outputs": [],
   "source": []
  }
 ],
 "metadata": {
  "kernelspec": {
   "display_name": "Python 3 (ipykernel)",
   "language": "python",
   "name": "python3"
  },
  "language_info": {
   "codemirror_mode": {
    "name": "ipython",
    "version": 3
   },
   "file_extension": ".py",
   "mimetype": "text/x-python",
   "name": "python",
   "nbconvert_exporter": "python",
   "pygments_lexer": "ipython3",
   "version": "3.11.7"
  }
 },
 "nbformat": 4,
 "nbformat_minor": 5
}
