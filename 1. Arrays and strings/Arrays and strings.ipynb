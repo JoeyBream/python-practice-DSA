{
 "cells": [
  {
   "cell_type": "markdown",
   "id": "c45bf164-f19b-4ebd-b4d9-f11902ee2884",
   "metadata": {},
   "source": [
    "# Arrays and strings notes"
   ]
  },
  {
   "cell_type": "markdown",
   "id": "b0de3635-a25a-4890-91c6-3f348890db45",
   "metadata": {},
   "source": [
    "### Arrays and strings intro\n",
    "1. In Python arrays are mutable (changable) while strings are not - you need to recreate a string from scratch to change an element of it.\n",
    "2. Changing elements in mutable objects is simple and low complexity, generally O(1). In immutable ones it is generally O(n)"
   ]
  },
  {
   "cell_type": "markdown",
   "id": "0c48140c-d1d4-4dae-83ba-703383f66871",
   "metadata": {},
   "source": [
    "## 1. Two pointers\n",
    "Time complexity: O(n) \n",
    "Space complexity: O(1)\n",
    "1. A very common technique with complexity O(n+m) for two arrays.\n",
    "2. Method: Initialise two pointers, e.g. at start and end of an array, or at the start of two arrays.\n",
    "3. In each step, modify the position of 1 or both pointers.\n",
    "4. Note: When starting in two arrays, your code will usually want to iterate over both arrays completely. This gives code like\n",
    "5. Method works for arrays and strings, since both have a specific order to the elements"
   ]
  },
  {
   "cell_type": "code",
   "execution_count": 16,
   "id": "247190d2-91ba-482d-bedf-7632cbf2a97d",
   "metadata": {
    "scrolled": true
   },
   "outputs": [
    {
     "ename": "SyntaxError",
     "evalue": "invalid syntax (4099469604.py, line 2)",
     "output_type": "error",
     "traceback": [
      "\u001b[1;36m  Cell \u001b[1;32mIn[16], line 2\u001b[1;36m\u001b[0m\n\u001b[1;33m    logic around this\u001b[0m\n\u001b[1;37m          ^\u001b[0m\n\u001b[1;31mSyntaxError\u001b[0m\u001b[1;31m:\u001b[0m invalid syntax\n"
     ]
    }
   ],
   "source": [
    "while i < len(arr1) and j < len(arr2):\n",
    "    logic around this\n",
    "    if ... # This continues until either i or j has finished moving\n",
    "while i < len(arr1)\n",
    "    if ...\n",
    "while j < len(arr2)\n",
    "    if ...  # Then this finishes it off\n"
   ]
  },
  {
   "cell_type": "markdown",
   "id": "bd5f277e-4ac4-489c-ade9-3416090450e7",
   "metadata": {},
   "source": [
    "### Task 1: Reversible string"
   ]
  },
  {
   "cell_type": "code",
   "execution_count": null,
   "id": "73584380-05aa-44ba-8fba-c4ae9273974b",
   "metadata": {},
   "outputs": [],
   "source": [
    "### Task: Reversible string\n",
    "## My solution:\n",
    "class Solution(object):\n",
    "    def reverseString(self, s):\n",
    "        \"\"\"\n",
    "        :type s: List[str]\n",
    "        :rtype: None Do not return anything, modify s in-place instead.\n",
    "        \"\"\"\n",
    "        # Note string is given as an array. So it is mutable e.g. s[0] = 3\n",
    "        \n",
    "        i = 0\n",
    "        j = len(s)-1\n",
    "        x = \"\"\n",
    "        \n",
    "        while i <= (len(s)-1)//2 and j >= 0:\n",
    "            x = s[i]\n",
    "            s[i] = s[j]\n",
    "            s[j] = x\n",
    "            \n",
    "            i += 1\n",
    "            j -= 1\n",
    "        return s\n",
    "\n",
    "## Best solution using technique\n",
    "class Solution(object):\r\n",
    "    def reverseString(self, s):\r\n",
    "        left=0\r\n",
    "        right=len(s)-1\r\n",
    "        \r\n",
    "        while left < right:\r\n",
    "            s[left],s[right]=s[right],s[left]\r\n",
    "            left=left+1\r\n",
    "            right=\n",
    "### Best solution overall: \n",
    "## Use a for loop:\n",
    "for i in len (s)\n",
    "s[1] == s[::-1]\n",
    "        "
   ]
  },
  {
   "cell_type": "markdown",
   "id": "ee872553-433f-46c8-8061-a25325739506",
   "metadata": {},
   "source": [
    "### Task 2: Squares of a sorted array"
   ]
  },
  {
   "cell_type": "code",
   "execution_count": null,
   "id": "8845f478-1b65-4500-b0e4-0cacf8ee5da6",
   "metadata": {},
   "outputs": [],
   "source": [
    "## Simple method\n",
    "        arr = []\n",
    "        \n",
    "        for num in nums:\n",
    "            arr.append(num*num)\n",
    "            \n",
    "        return sorted(arr)"
   ]
  },
  {
   "cell_type": "code",
   "execution_count": null,
   "id": "d30673d4-cd08-4bfb-bb33-b0a7f5dd872e",
   "metadata": {},
   "outputs": [],
   "source": [
    "## Method using pointers and is O(n)\n",
    "nums = [-7,-3,2,3,11]\n",
    "def sortedSquares(nums):\n",
    "        i = 0\n",
    "        j = 0\n",
    "        arr = []\n",
    "        \n",
    "        while i < len(nums)-1 and j < len(nums)-1:\n",
    "            if nums[j] > 0:\n",
    "                arr[i] = nums[j]*nums[j]\n",
    "                i += 1\n",
    "            j += 1    \n",
    "        return sorted(arr)\n",
    "\n",
    "print(sortedSquares(nums))"
   ]
  },
  {
   "cell_type": "code",
   "execution_count": null,
   "id": "ef977941-4750-4632-82d7-503e6598bf4f",
   "metadata": {},
   "outputs": [],
   "source": [
    "## Better solution\n",
    "for index,each in enumerate(nums):\n",
    "            nums[index]*=each\n",
    "        nums.sort()\n",
    "        return nums"
   ]
  },
  {
   "cell_type": "code",
   "execution_count": null,
   "id": "279b58c1-b669-4b09-b06e-df2a4084b961",
   "metadata": {},
   "outputs": [],
   "source": [
    "## Solution using two pointers \n",
    "\" Basically this one goes through the list comparing absolute values, and squares the larger one.\"\n",
    "\" So you use two pointers, left and right. \"\n",
    "nums = [-7,-3,2,3,11]\n",
    "def sortedSquares(nums):\n",
    "    left = 0\n",
    "    right = len(nums) - 1\n",
    "    result = []\n",
    "    while left <= right:\n",
    "        if abs(nums[left]) > abs(nums[right]):\n",
    "            result.append(nums[left] ** 2)\n",
    "            left += 1\n",
    "        else:\n",
    "            result.append(nums[right] ** 2)\n",
    "            right -= 1\n",
    "#    result.reverse()\n",
    "    return result\n",
    "\n",
    "print(sortedSquares(nums))"
   ]
  },
  {
   "cell_type": "markdown",
   "id": "ed314dd0-88cf-470c-8d25-f0c135a32fa4",
   "metadata": {},
   "source": [
    "## 2. Sliding window"
   ]
  },
  {
   "cell_type": "markdown",
   "id": "e8555efc-0822-4b84-add2-576a6d8a7296",
   "metadata": {},
   "source": [
    "Time complexity: O(n), Space complexity: O(1) \n",
    "1. Another common method. This time, you slide across using a window to callout specific values one by one.\n",
    "2. Actually implemented using two pointers.\n",
    "3. Works for arrays and strings. Inputs with values in a given order.\n",
    "4. Useful for problems with constraints on subarrays, e.g. sum or frequency of elements is a certain value. Problems also typically want the *best* condition, e.g. longest subarray\n",
    "5. Also used for problems of finding number of valid subarrays\\\n",
    "6. Typical problems\\\n",
    "   a) Find the longest subarray with a sum less than or equal to k\\\n",
    "   b) \n",
    "Find the longest substring that has at most one \"0\\\n",
    "   c) \r\n",
    "Find the number of subarrays that have a product less than k"
   ]
  },
  {
   "cell_type": "markdown",
   "id": "82d7ca65-b951-4f7f-a7eb-cf75e6673684",
   "metadata": {},
   "source": [
    "### Pseudocode for a \"find the sum\" problem"
   ]
  },
  {
   "cell_type": "code",
   "execution_count": null,
   "id": "aa0a39d2-8878-498b-bbc5-989b80729c2e",
   "metadata": {},
   "outputs": [],
   "source": [
    "## Pseudocode for a \"find the sum\" problem\n",
    "function fn(nums, k):\n",
    "    left = 0\n",
    "    curr = 0\n",
    "    answer = 0\n",
    "    for (int right = 0; right < nums.length; right++):\n",
    "        curr += nums[right]\n",
    "        while (curr > k):\n",
    "            curr -= nums[left]\n",
    "            left++\n",
    "\n",
    "        answer = max(answer, right - left + 1)\n",
    "\n",
    "    return answer"
   ]
  },
  {
   "cell_type": "code",
   "execution_count": null,
   "id": "cb516a46-5725-4a52-80f8-576ecbb2e0e9",
   "metadata": {},
   "outputs": [],
   "source": [
    "## Generally\n",
    "function fn(arr):\n",
    "    left = 0\n",
    "    for (int right = 0; right < arr.length; right++):\n",
    "        Do some logic to \"add\" element at arr[right] to window\n",
    "\n",
    "        while WINDOW_IS_INVALID:\n",
    "            Do some logic to \"remove\" element at arr[left] from window\n",
    "            left++\n",
    "\n",
    "        Do some logic to update the answer"
   ]
  },
  {
   "cell_type": "markdown",
   "id": "208803d5-f42e-4c9c-a27b-d5da043a84e8",
   "metadata": {},
   "source": [
    "If you only have positive integers in your array, then while your result is too small you can keep increasing the window to the right. While the result is too big you can keep reducing the window from the left.\n"
   ]
  },
  {
   "cell_type": "markdown",
   "id": "e86ab293-f7b4-4453-a04b-49bda98181bc",
   "metadata": {},
   "source": [
    "### Problem solving and complexity notes"
   ]
  },
  {
   "cell_type": "markdown",
   "id": "92de41db-719d-4a65-adc5-f79dfd1df630",
   "metadata": {},
   "source": [
    "### Comment on sliding window complexity\n",
    "You can move each pointer n times, so in total O(2n) operations. This is better than identifying every subarray, which you do on levels n,  (n-1), (n-2) which results in a partial sum, O(n^2)\n",
    "\n",
    "### Note on problem solving\n",
    "1. You will be asked often to return the longest window length that fits the bill. For this use the following code every time you shift the window length away from a valid solution.\\\n",
    "ans = max(ans, right - left + 1)\n",
    "2. This either keeps the biggest answer you have already found or changes it to the new maximum."
   ]
  },
  {
   "cell_type": "markdown",
   "id": "9f44699f-bd75-401c-9747-80fddc4369a1",
   "metadata": {},
   "source": [
    "### C) Subarrays with products \n",
    "This time, when using while loops to change the window size, use * and / to work out the current value, instead of + and -."
   ]
  },
  {
   "cell_type": "markdown",
   "id": "3ed58fc7-3289-4bfe-b1b4-b4da206a5e25",
   "metadata": {},
   "source": [
    "### Fixed windows instead of dynamic?"
   ]
  },
  {
   "cell_type": "code",
   "execution_count": 17,
   "id": "9c4ea9de-847d-41a3-8d56-ce2174d56480",
   "metadata": {},
   "outputs": [
    {
     "ename": "SyntaxError",
     "evalue": "invalid syntax (2862376663.py, line 2)",
     "output_type": "error",
     "traceback": [
      "\u001b[1;36m  Cell \u001b[1;32mIn[17], line 2\u001b[1;36m\u001b[0m\n\u001b[1;33m    function fn(arr, k):\u001b[0m\n\u001b[1;37m             ^\u001b[0m\n\u001b[1;31mSyntaxError\u001b[0m\u001b[1;31m:\u001b[0m invalid syntax\n"
     ]
    }
   ],
   "source": [
    "# Pseudocode for fixed window\n",
    "function fn(arr, k):\n",
    "    curr = some data to track the window\n",
    "\n",
    "    // build the first window\n",
    "    for (int i = 0; i < k; i++)\n",
    "        Do something with curr or other variables to build first window\n",
    "\n",
    "    ans = answer variable, probably equal to curr here depending on the problem\n",
    "    for (int i = k; i < arr.length; i++)\n",
    "        Add arr[i] to window\n",
    "        Remove arr[i - k] from window\n",
    "        Update ans\n",
    "\n",
    "    return ans"
   ]
  },
  {
   "cell_type": "code",
   "execution_count": null,
   "id": "861a0443-431d-4c22-9930-c9dcc726e112",
   "metadata": {},
   "outputs": [],
   "source": [
    "Generally"
   ]
  },
  {
   "cell_type": "code",
   "execution_count": null,
   "id": "8ede7eef-95ad-4006-bab5-288a2a07101c",
   "metadata": {},
   "outputs": [],
   "source": [
    "### Prefix Sum"
   ]
  },
  {
   "cell_type": "code",
   "execution_count": null,
   "id": "8bdaac20-372f-465c-9057-e0e32ad2e592",
   "metadata": {},
   "outputs": [],
   "source": [
    "Idea is to create an array 'prefix' based on another array 'nums'. We make it so that the element Prefix[i] is the sum of nums up to that point.\n",
    "We can then use prefix[j] - prefix[i] + nums[i] to find the sum of the subarray.\n",
    "\n",
    "#### Pseudocode for prefix"
   ]
  },
  {
   "cell_type": "code",
   "execution_count": null,
   "id": "4883997a-d13e-4e38-948d-be22399c3b7c",
   "metadata": {},
   "outputs": [],
   "source": [
    "Given an array nums,\n",
    "\n",
    "prefix = [nums[0]]\n",
    "for (int i = 1; i < nums.length; i++)\n",
    "    prefix.append(nums[i] + prefix[prefix.length - 1])\n",
    "\n",
    "### Python code\n",
    "prefix = [nums[0]]\n",
    "for i in range(1, len(nums)): \"\"\"I don't get why it has to be range(1, len(nums))?\"\"\"\n",
    "    prefix.append(nums[i] + prefix[-1])\n",
    "\n",
    "### Applying this to a case where you are querying whether subarray between x and y is less than a limit\n",
    "ans = []\n",
    "for x, y in queries:\n",
    "    curr = prefix[y] - prefix[x] + nums[x]\n",
    "    ans.append(curr < limit)"
   ]
  },
  {
   "cell_type": "code",
   "execution_count": null,
   "id": "b9f19108-e6db-4794-958c-449aed149248",
   "metadata": {},
   "outputs": [],
   "source": [
    "#### Cost complexity\n",
    "This is an example of pre-processing.\n",
    "Time complexity = O(n) at first, but then O(1) for future subarray queries\n",
    "Space complexity = O(n)\n",
    "\n",
    "#### Note!\n",
    "You don't always need to do a prefix array. Sometimes summing your numbers, doing total - curr and calculate the prefix on the fly using curr += nums[i]"
   ]
  },
  {
   "cell_type": "code",
   "execution_count": null,
   "id": "9592263f-40fb-4a85-9c3a-29a71af2e914",
   "metadata": {},
   "outputs": [],
   "source": [
    "### Bits to practice from scratch"
   ]
  },
  {
   "cell_type": "code",
   "execution_count": null,
   "id": "9ddb781a-179e-462e-9a16-a07098d4a60b",
   "metadata": {},
   "outputs": [],
   "source": [
    "### Initialise prefix array\n",
    "prefix = [nums[0]]\n",
    "for i in range(1,len(nums)):\n",
    "    prefix.append(prefix[-1]+nums[i])"
   ]
  },
  {
   "cell_type": "code",
   "execution_count": null,
   "id": "e4058f23-49e3-4ee9-bdae-8509e05665e9",
   "metadata": {},
   "outputs": [],
   "source": [
    "### Calculate a subarray sum\n",
    "curr = prefix[j] - prefix[i] + nums[i]"
   ]
  },
  {
   "cell_type": "code",
   "execution_count": null,
   "id": "b34d56cc-1b17-40b2-8980-8e65f826b591",
   "metadata": {},
   "outputs": [],
   "source": [
    "### Calculate a running sum\n",
    "curr = 0\n",
    "for i in range(len(nums)):\n",
    "    curr += nums[i]"
   ]
  },
  {
   "cell_type": "code",
   "execution_count": null,
   "id": "cfe8f546-0ede-4b1a-a737-fc9230a285ab",
   "metadata": {},
   "outputs": [],
   "source": [
    "### Two pointers which approach eachother\n",
    "left = 0\n",
    "right = len(nums)-1 # because arrays initalise at index 0\n",
    "while right < left:\n",
    "    curr = nums[left] # e.g.\n",
    "    ##\n",
    "    left += -1 ## or right == 1 or both"
   ]
  },
  {
   "cell_type": "code",
   "execution_count": null,
   "id": "6310673a-a1b8-41b9-8c0a-465738dc135d",
   "metadata": {},
   "outputs": [],
   "source": [
    "### Two pointers in different arrays\n",
    "i = j = 0\n",
    "while i < len(arr1) and j < len(arr2):\n",
    "    ##\n",
    "\n",
    "while i < len(arr1): \"\"\"Important to keep these extra steps so that the function finishes running\"\"\"\n",
    "    ##\n",
    "\n",
    "while j < len(arr2):"
   ]
  },
  {
   "cell_type": "code",
   "execution_count": null,
   "id": "6857c9d5-df4f-424e-82b0-7d108157cd1c",
   "metadata": {
    "scrolled": true
   },
   "outputs": [],
   "source": [
    "### SLiding window (unsure this is correct)\n",
    "left = curr = 0 # curr also used instead of right depending on what we are tracking\n",
    "for right in len(nums):\n",
    "    curr += nums[right]\n",
    "    while curr > k: # Logic to calculate when to move left\n",
    "        curr -= nums[left]\n",
    "        left += 1\n",
    "\n",
    "ans = max(ans, right - left + 1) # A trick so that we don't have to use ans += 1"
   ]
  },
  {
   "cell_type": "code",
   "execution_count": null,
   "id": "b49011de-542e-4a63-87d2-ca32f548a221",
   "metadata": {},
   "outputs": [],
   "source": [
    "\n"
   ]
  }
 ],
 "metadata": {
  "kernelspec": {
   "display_name": "Python 3 (ipykernel)",
   "language": "python",
   "name": "python3"
  },
  "language_info": {
   "codemirror_mode": {
    "name": "ipython",
    "version": 3
   },
   "file_extension": ".py",
   "mimetype": "text/x-python",
   "name": "python",
   "nbconvert_exporter": "python",
   "pygments_lexer": "ipython3",
   "version": "3.11.7"
  }
 },
 "nbformat": 4,
 "nbformat_minor": 5
}
